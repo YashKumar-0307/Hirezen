{
 "cells": [
  {
   "cell_type": "code",
   "execution_count": 3,
   "metadata": {},
   "outputs": [
    {
     "name": "stdout",
     "output_type": "stream",
     "text": [
      "Requirement already satisfied: transformers in c:\\python310\\lib\\site-packages (4.20.1)\n",
      "Requirement already satisfied: tqdm>=4.27 in c:\\python310\\lib\\site-packages (from transformers) (4.63.0)\n",
      "Requirement already satisfied: packaging>=20.0 in c:\\python310\\lib\\site-packages (from transformers) (21.3)\n",
      "Requirement already satisfied: filelock in c:\\python310\\lib\\site-packages (from transformers) (3.7.1)\n",
      "Requirement already satisfied: numpy>=1.17 in c:\\python310\\lib\\site-packages (from transformers) (1.22.2)\n",
      "Requirement already satisfied: huggingface-hub<1.0,>=0.1.0 in c:\\python310\\lib\\site-packages (from transformers) (0.8.1)\n",
      "Requirement already satisfied: requests in c:\\python310\\lib\\site-packages (from transformers) (2.27.1)\n",
      "Requirement already satisfied: tokenizers!=0.11.3,<0.13,>=0.11.1 in c:\\python310\\lib\\site-packages (from transformers) (0.12.1)\n",
      "Requirement already satisfied: pyyaml>=5.1 in c:\\python310\\lib\\site-packages (from transformers) (6.0)\n",
      "Requirement already satisfied: regex!=2019.12.17 in c:\\python310\\lib\\site-packages (from transformers) (2022.3.2)\n",
      "Requirement already satisfied: typing-extensions>=3.7.4.3 in c:\\python310\\lib\\site-packages (from huggingface-hub<1.0,>=0.1.0->transformers) (4.1.1)\n",
      "Requirement already satisfied: pyparsing!=3.0.5,>=2.0.2 in c:\\python310\\lib\\site-packages (from packaging>=20.0->transformers) (3.0.7)\n",
      "Requirement already satisfied: colorama in c:\\python310\\lib\\site-packages (from tqdm>=4.27->transformers) (0.4.4)\n",
      "Requirement already satisfied: idna<4,>=2.5 in c:\\python310\\lib\\site-packages (from requests->transformers) (3.3)\n",
      "Requirement already satisfied: charset-normalizer~=2.0.0 in c:\\python310\\lib\\site-packages (from requests->transformers) (2.0.12)\n",
      "Requirement already satisfied: certifi>=2017.4.17 in c:\\python310\\lib\\site-packages (from requests->transformers) (2021.10.8)\n",
      "Requirement already satisfied: urllib3<1.27,>=1.21.1 in c:\\python310\\lib\\site-packages (from requests->transformers) (1.26.8)\n"
     ]
    },
    {
     "name": "stderr",
     "output_type": "stream",
     "text": [
      "WARNING: There was an error checking the latest version of pip.\n"
     ]
    }
   ],
   "source": [
    "!pip install transformers"
   ]
  },
  {
   "cell_type": "code",
   "execution_count": 4,
   "metadata": {},
   "outputs": [
    {
     "name": "stdout",
     "output_type": "stream",
     "text": [
      "Requirement already satisfied: torch in c:\\python310\\lib\\site-packages (1.11.0)\n",
      "Requirement already satisfied: typing-extensions in c:\\python310\\lib\\site-packages (from torch) (4.1.1)\n"
     ]
    },
    {
     "name": "stderr",
     "output_type": "stream",
     "text": [
      "WARNING: There was an error checking the latest version of pip.\n"
     ]
    }
   ],
   "source": [
    "!pip install torch"
   ]
  },
  {
   "cell_type": "code",
   "execution_count": 5,
   "metadata": {},
   "outputs": [
    {
     "name": "stderr",
     "output_type": "stream",
     "text": [
      "Some weights of the model checkpoint at distilbert-base-multilingual-cased were not used when initializing DistilBertForSequenceClassification: ['vocab_projector.bias', 'vocab_transform.bias', 'vocab_transform.weight', 'vocab_layer_norm.weight', 'vocab_layer_norm.bias', 'vocab_projector.weight']\n",
      "- This IS expected if you are initializing DistilBertForSequenceClassification from the checkpoint of a model trained on another task or with another architecture (e.g. initializing a BertForSequenceClassification model from a BertForPreTraining model).\n",
      "- This IS NOT expected if you are initializing DistilBertForSequenceClassification from the checkpoint of a model that you expect to be exactly identical (initializing a BertForSequenceClassification model from a BertForSequenceClassification model).\n",
      "Some weights of DistilBertForSequenceClassification were not initialized from the model checkpoint at distilbert-base-multilingual-cased and are newly initialized: ['classifier.bias', 'pre_classifier.bias', 'classifier.weight', 'pre_classifier.weight']\n",
      "You should probably TRAIN this model on a down-stream task to be able to use it for predictions and inference.\n"
     ]
    },
    {
     "data": {
      "text/plain": [
       "DistilBertForSequenceClassification(\n",
       "  (distilbert): DistilBertModel(\n",
       "    (embeddings): Embeddings(\n",
       "      (word_embeddings): Embedding(119547, 768, padding_idx=0)\n",
       "      (position_embeddings): Embedding(512, 768)\n",
       "      (LayerNorm): LayerNorm((768,), eps=1e-12, elementwise_affine=True)\n",
       "      (dropout): Dropout(p=0.1, inplace=False)\n",
       "    )\n",
       "    (transformer): Transformer(\n",
       "      (layer): ModuleList(\n",
       "        (0): TransformerBlock(\n",
       "          (attention): MultiHeadSelfAttention(\n",
       "            (dropout): Dropout(p=0.1, inplace=False)\n",
       "            (q_lin): Linear(in_features=768, out_features=768, bias=True)\n",
       "            (k_lin): Linear(in_features=768, out_features=768, bias=True)\n",
       "            (v_lin): Linear(in_features=768, out_features=768, bias=True)\n",
       "            (out_lin): Linear(in_features=768, out_features=768, bias=True)\n",
       "          )\n",
       "          (sa_layer_norm): LayerNorm((768,), eps=1e-12, elementwise_affine=True)\n",
       "          (ffn): FFN(\n",
       "            (dropout): Dropout(p=0.1, inplace=False)\n",
       "            (lin1): Linear(in_features=768, out_features=3072, bias=True)\n",
       "            (lin2): Linear(in_features=3072, out_features=768, bias=True)\n",
       "            (activation): GELUActivation()\n",
       "          )\n",
       "          (output_layer_norm): LayerNorm((768,), eps=1e-12, elementwise_affine=True)\n",
       "        )\n",
       "        (1): TransformerBlock(\n",
       "          (attention): MultiHeadSelfAttention(\n",
       "            (dropout): Dropout(p=0.1, inplace=False)\n",
       "            (q_lin): Linear(in_features=768, out_features=768, bias=True)\n",
       "            (k_lin): Linear(in_features=768, out_features=768, bias=True)\n",
       "            (v_lin): Linear(in_features=768, out_features=768, bias=True)\n",
       "            (out_lin): Linear(in_features=768, out_features=768, bias=True)\n",
       "          )\n",
       "          (sa_layer_norm): LayerNorm((768,), eps=1e-12, elementwise_affine=True)\n",
       "          (ffn): FFN(\n",
       "            (dropout): Dropout(p=0.1, inplace=False)\n",
       "            (lin1): Linear(in_features=768, out_features=3072, bias=True)\n",
       "            (lin2): Linear(in_features=3072, out_features=768, bias=True)\n",
       "            (activation): GELUActivation()\n",
       "          )\n",
       "          (output_layer_norm): LayerNorm((768,), eps=1e-12, elementwise_affine=True)\n",
       "        )\n",
       "        (2): TransformerBlock(\n",
       "          (attention): MultiHeadSelfAttention(\n",
       "            (dropout): Dropout(p=0.1, inplace=False)\n",
       "            (q_lin): Linear(in_features=768, out_features=768, bias=True)\n",
       "            (k_lin): Linear(in_features=768, out_features=768, bias=True)\n",
       "            (v_lin): Linear(in_features=768, out_features=768, bias=True)\n",
       "            (out_lin): Linear(in_features=768, out_features=768, bias=True)\n",
       "          )\n",
       "          (sa_layer_norm): LayerNorm((768,), eps=1e-12, elementwise_affine=True)\n",
       "          (ffn): FFN(\n",
       "            (dropout): Dropout(p=0.1, inplace=False)\n",
       "            (lin1): Linear(in_features=768, out_features=3072, bias=True)\n",
       "            (lin2): Linear(in_features=3072, out_features=768, bias=True)\n",
       "            (activation): GELUActivation()\n",
       "          )\n",
       "          (output_layer_norm): LayerNorm((768,), eps=1e-12, elementwise_affine=True)\n",
       "        )\n",
       "        (3): TransformerBlock(\n",
       "          (attention): MultiHeadSelfAttention(\n",
       "            (dropout): Dropout(p=0.1, inplace=False)\n",
       "            (q_lin): Linear(in_features=768, out_features=768, bias=True)\n",
       "            (k_lin): Linear(in_features=768, out_features=768, bias=True)\n",
       "            (v_lin): Linear(in_features=768, out_features=768, bias=True)\n",
       "            (out_lin): Linear(in_features=768, out_features=768, bias=True)\n",
       "          )\n",
       "          (sa_layer_norm): LayerNorm((768,), eps=1e-12, elementwise_affine=True)\n",
       "          (ffn): FFN(\n",
       "            (dropout): Dropout(p=0.1, inplace=False)\n",
       "            (lin1): Linear(in_features=768, out_features=3072, bias=True)\n",
       "            (lin2): Linear(in_features=3072, out_features=768, bias=True)\n",
       "            (activation): GELUActivation()\n",
       "          )\n",
       "          (output_layer_norm): LayerNorm((768,), eps=1e-12, elementwise_affine=True)\n",
       "        )\n",
       "        (4): TransformerBlock(\n",
       "          (attention): MultiHeadSelfAttention(\n",
       "            (dropout): Dropout(p=0.1, inplace=False)\n",
       "            (q_lin): Linear(in_features=768, out_features=768, bias=True)\n",
       "            (k_lin): Linear(in_features=768, out_features=768, bias=True)\n",
       "            (v_lin): Linear(in_features=768, out_features=768, bias=True)\n",
       "            (out_lin): Linear(in_features=768, out_features=768, bias=True)\n",
       "          )\n",
       "          (sa_layer_norm): LayerNorm((768,), eps=1e-12, elementwise_affine=True)\n",
       "          (ffn): FFN(\n",
       "            (dropout): Dropout(p=0.1, inplace=False)\n",
       "            (lin1): Linear(in_features=768, out_features=3072, bias=True)\n",
       "            (lin2): Linear(in_features=3072, out_features=768, bias=True)\n",
       "            (activation): GELUActivation()\n",
       "          )\n",
       "          (output_layer_norm): LayerNorm((768,), eps=1e-12, elementwise_affine=True)\n",
       "        )\n",
       "        (5): TransformerBlock(\n",
       "          (attention): MultiHeadSelfAttention(\n",
       "            (dropout): Dropout(p=0.1, inplace=False)\n",
       "            (q_lin): Linear(in_features=768, out_features=768, bias=True)\n",
       "            (k_lin): Linear(in_features=768, out_features=768, bias=True)\n",
       "            (v_lin): Linear(in_features=768, out_features=768, bias=True)\n",
       "            (out_lin): Linear(in_features=768, out_features=768, bias=True)\n",
       "          )\n",
       "          (sa_layer_norm): LayerNorm((768,), eps=1e-12, elementwise_affine=True)\n",
       "          (ffn): FFN(\n",
       "            (dropout): Dropout(p=0.1, inplace=False)\n",
       "            (lin1): Linear(in_features=768, out_features=3072, bias=True)\n",
       "            (lin2): Linear(in_features=3072, out_features=768, bias=True)\n",
       "            (activation): GELUActivation()\n",
       "          )\n",
       "          (output_layer_norm): LayerNorm((768,), eps=1e-12, elementwise_affine=True)\n",
       "        )\n",
       "      )\n",
       "    )\n",
       "  )\n",
       "  (pre_classifier): Linear(in_features=768, out_features=768, bias=True)\n",
       "  (classifier): Linear(\n",
       "    in_features=768, out_features=200, bias=True\n",
       "    (activation): Linear(in_features=768, out_features=200, bias=True)\n",
       "    (prediction): Softmax(dim=5)\n",
       "  )\n",
       "  (dropout): Dropout(p=0.2, inplace=False)\n",
       ")"
      ]
     },
     "execution_count": 5,
     "metadata": {},
     "output_type": "execute_result"
    }
   ],
   "source": [
    "import numpy as np # linear algebra\n",
    "import pandas as pd # data processing, CSV file I/O (e.g. pd.read_csv)\n",
    "import torch\n",
    "from transformers.data.processors.utils import InputExample\n",
    "from torch import nn\n",
    "from tqdm.notebook import tqdm\n",
    "from torch.utils.data import TensorDataset, DataLoader\n",
    "from transformers import glue_convert_examples_to_features,DistilBertTokenizer,DistilBertForSequenceClassification\n",
    "from scipy.stats import ks_2samp\n",
    "import pickle\n",
    "\n",
    "tokenizer = DistilBertTokenizer.from_pretrained(\"distilbert-base-multilingual-cased\")\n",
    "model = DistilBertForSequenceClassification.from_pretrained(\"distilbert-base-multilingual-cased\", num_labels=200)\n",
    "\n",
    "model.classifier.add_module('activation', nn.Linear(768, 200))\n",
    "model.classifier.add_module('prediction', nn.Softmax(5))\n",
    "\n",
    "model.classifier.load_state_dict(torch.load('Yelp Classifier.pt',map_location=torch.device('cpu')))\n",
    "model.pre_classifier.load_state_dict(torch.load('Yelp Pre_Classifier.pt',map_location=torch.device('cpu')))\n",
    "\n",
    "model.eval()\n",
    "# print(model)"
   ]
  },
  {
   "cell_type": "code",
   "execution_count": 6,
   "metadata": {},
   "outputs": [
    {
     "name": "stderr",
     "output_type": "stream",
     "text": [
      "c:\\Python310\\lib\\site-packages\\transformers\\data\\processors\\glue.py:66: FutureWarning: This function will be removed from the library soon, preprocessing should be handled with the 🤗 Datasets library. You can have a look at this example script for pointers: https://github.com/huggingface/transformers/blob/main/examples/pytorch/text-classification/run_glue.py\n",
      "  warnings.warn(DEPRECATION_WARNING.format(\"function\"), FutureWarning)\n"
     ]
    },
    {
     "data": {
      "application/vnd.jupyter.widget-view+json": {
       "model_id": "3bef15540af943cb98b2f81a8d2fa022",
       "version_major": 2,
       "version_minor": 0
      },
      "text/plain": [
       "val batch:   0%|          | 0/8 [00:00<?, ?it/s]"
      ]
     },
     "metadata": {},
     "output_type": "display_data"
    }
   ],
   "source": [
    "\n",
    "adf = pd.read_csv('check.csv')\n",
    "adf=adf.sample(500)\n",
    "\n",
    "def get_features(df, text_col, label_col):\n",
    "    l = [InputExample(guid=idx, text_a=df.loc[idx, text_col], label=df.loc[idx, label_col]) for idx, row in df.iterrows()]\n",
    "    features = glue_convert_examples_to_features(examples=l, \n",
    "                                    tokenizer=tokenizer,\n",
    "                                    max_length=300,\n",
    "                                    label_list = df[label_col].values,\n",
    "                                    output_mode='regression')\n",
    "#     print(features[0].token_type_ids)\n",
    "    all_input_ids = torch.tensor([f.input_ids for f in features], dtype=torch.long)\n",
    "    all_attention_mask = torch.tensor([f.attention_mask for f in features], dtype=torch.long)\n",
    "    all_labels = torch.tensor([int(f.label-1) for f in features], dtype=torch.long)\n",
    "    dataset = TensorDataset(all_input_ids, all_attention_mask, all_labels)\n",
    "    return dataset\n",
    "\n",
    "def score(curr_dataset,ref_dataset):\n",
    "    return 1e5/ks_2samp(ref_dataset,curr_dataset).statistic\n",
    "\n",
    "test_dataset = get_features(adf, 'text', 'stars')\n",
    "\n",
    "test_dataloader = DataLoader(test_dataset, batch_size=64, shuffle=False)\n",
    "batch_predictions, batch_actual = [], []\n",
    "with torch.no_grad():\n",
    "    for k, (input_ids, attention_mask, labels) in enumerate(tqdm(test_dataloader, total=len(test_dataloader), desc='val batch')):\n",
    "        feed_dict = {'input_ids': input_ids,\n",
    "                     'attention_mask': attention_mask} \n",
    "        \n",
    "        pred = model(**feed_dict)[0].cpu()\n",
    "        batch_predictions.append(pred.numpy())\n",
    "        batch_actual.append(labels)"
   ]
  },
  {
   "cell_type": "code",
   "execution_count": 7,
   "metadata": {},
   "outputs": [],
   "source": [
    "predictions = np.array([i for k in batch_predictions for i in k ])\n",
    "\n",
    "predictions = np.argmax(predictions, axis=1)\n",
    "actual = np.array([i for k in batch_actual for i in k ])"
   ]
  },
  {
   "cell_type": "code",
   "execution_count": 8,
   "metadata": {},
   "outputs": [
    {
     "data": {
      "text/plain": [
       "array([4, 2, 4, 1, 0, 4, 2, 4, 0, 4, 1, 0, 4, 4, 0, 3, 0, 4, 1, 0, 2, 3,\n",
       "       0, 0, 4, 2, 2, 4, 0, 2, 4, 2, 1, 4, 3, 0, 1, 2, 4, 1, 1, 2, 4, 1,\n",
       "       0, 2, 2, 1, 2, 4, 2, 3, 3, 2, 2, 2, 1, 1, 2, 2, 1, 4, 1, 2, 2, 1,\n",
       "       1, 4, 4, 2, 0, 4, 1, 3, 1, 2, 1, 3, 3, 2, 4, 0, 3, 2, 4, 2, 3, 4,\n",
       "       2, 2, 0, 4, 2, 0, 3, 4, 4, 3, 0, 0, 2, 0, 3, 0, 0, 1, 2, 3, 2, 2,\n",
       "       1, 3, 2, 2, 2, 2, 1, 4, 2, 2, 3, 1, 3, 0, 4, 1, 4, 0, 2, 4, 2, 2,\n",
       "       2, 2, 2, 1, 2, 3, 0, 0, 4, 1, 2, 2, 4, 1, 0, 2, 3, 4, 3, 1, 2, 3,\n",
       "       4, 4, 2, 2, 1, 2, 0, 2, 3, 2, 2, 1, 3, 2, 0, 2, 3, 2, 2, 4, 2, 4,\n",
       "       3, 0, 2, 3, 2, 0, 2, 2, 2, 2, 4, 2, 4, 0, 2, 4, 0, 2, 2, 4, 0, 4,\n",
       "       4, 4, 4, 1, 0, 4, 2, 4, 2, 3, 2, 3, 1, 3, 0, 0, 2, 4, 0, 3, 4, 2,\n",
       "       2, 2, 1, 0, 0, 0, 4, 4, 2, 4, 2, 2, 4, 3, 4, 2, 2, 0, 0, 1, 3, 2,\n",
       "       4, 4, 2, 1, 1, 1, 3, 3, 1, 4, 4, 3, 0, 2, 1, 2, 1, 3, 1, 2, 1, 0,\n",
       "       3, 0, 1, 0, 0, 3, 0, 3, 2, 4, 2, 0, 4, 2, 0, 0, 0, 3, 2, 2, 0, 1,\n",
       "       2, 0, 3, 2, 2, 2, 2, 1, 2, 1, 1, 4, 1, 0, 2, 4, 1, 1, 2, 2, 1, 3,\n",
       "       3, 1, 0, 0, 3, 0, 4, 4, 4, 1, 3, 4, 4, 1, 3, 2, 3, 3, 1, 0, 3, 4,\n",
       "       0, 2, 2, 3, 1, 3, 1, 1, 2, 1, 2, 2, 4, 2, 4, 4, 2, 1, 2, 2, 1, 1,\n",
       "       1, 2, 1, 0, 1, 1, 2, 4, 4, 1, 3, 0, 2, 2, 4, 2, 1, 1, 4, 3, 1, 0,\n",
       "       3, 3, 4, 1, 4, 0, 1, 4, 3, 4, 1, 2, 1, 3, 0, 0, 0, 0, 4, 0, 1, 1,\n",
       "       4, 2, 2, 1, 2, 4, 2, 1, 4, 0, 1, 0, 2, 3, 2, 0, 2, 4, 2, 0, 4, 3,\n",
       "       0, 2, 1, 3, 3, 1, 4, 2, 0, 3, 1, 1, 0, 2, 0, 4, 2, 4, 2, 3, 2, 1,\n",
       "       4, 1, 4, 0, 1, 0, 0, 0, 2, 0, 3, 0, 1, 1, 0, 2, 2, 2, 0, 2, 3, 3,\n",
       "       1, 0, 2, 0, 3, 1, 4, 3, 0, 0, 2, 0, 0, 1, 3, 2, 4, 2, 0, 2, 0, 0,\n",
       "       0, 2, 1, 4, 2, 2, 0, 2, 1, 4, 2, 0, 3, 0, 0, 2], dtype=int64)"
      ]
     },
     "execution_count": 8,
     "metadata": {},
     "output_type": "execute_result"
    }
   ],
   "source": [
    "predictions"
   ]
  },
  {
   "cell_type": "code",
   "execution_count": 9,
   "metadata": {},
   "outputs": [
    {
     "name": "stdout",
     "output_type": "stream",
     "text": [
      "[[58 18 11  2  2]\n",
      " [18 44 32  4  1]\n",
      " [11 24 65 20  4]\n",
      " [ 4  6 27 23 30]\n",
      " [ 7  0 12 21 56]]\n",
      "              precision    recall  f1-score   support\n",
      "\n",
      "           0       0.59      0.64      0.61        91\n",
      "           1       0.48      0.44      0.46        99\n",
      "           2       0.44      0.52      0.48       124\n",
      "           3       0.33      0.26      0.29        90\n",
      "           4       0.60      0.58      0.59        96\n",
      "\n",
      "    accuracy                           0.49       500\n",
      "   macro avg       0.49      0.49      0.49       500\n",
      "weighted avg       0.49      0.49      0.49       500\n",
      "\n"
     ]
    }
   ],
   "source": [
    "from sklearn.metrics import confusion_matrix,classification_report\n",
    "print(confusion_matrix(actual,predictions))\n",
    "print(classification_report(actual,predictions))"
   ]
  },
  {
   "cell_type": "code",
   "execution_count": 10,
   "metadata": {},
   "outputs": [
    {
     "data": {
      "text/plain": [
       "0.872"
      ]
     },
     "execution_count": 10,
     "metadata": {},
     "output_type": "execute_result"
    }
   ],
   "source": [
    "def nearby_metric(predictions,actual):\n",
    "    count=0\n",
    "    for p,a in zip(predictions,actual):\n",
    "        if (abs(p-a)<=1):\n",
    "            count+=1\n",
    "    return count/len(predictions)\n",
    "\n",
    "nearby_metric(predictions,actual)"
   ]
  },
  {
   "cell_type": "code",
   "execution_count": 11,
   "metadata": {},
   "outputs": [],
   "source": [
    "with open(b'metric_dist.pkl','rb') as f:\n",
    "    new_dataset=pickle.load(f)"
   ]
  },
  {
   "cell_type": "code",
   "execution_count": 12,
   "metadata": {},
   "outputs": [
    {
     "name": "stdout",
     "output_type": "stream",
     "text": [
      "155870.06671238854\n"
     ]
    }
   ],
   "source": [
    "print(score(predictions,new_dataset))"
   ]
  }
 ],
 "metadata": {
  "interpreter": {
   "hash": "369f2c481f4da34e4445cda3fffd2e751bd1c4d706f27375911949ba6bb62e1c"
  },
  "kernelspec": {
   "display_name": "Python 3.10.2 64-bit",
   "language": "python",
   "name": "python3"
  },
  "language_info": {
   "codemirror_mode": {
    "name": "ipython",
    "version": 3
   },
   "file_extension": ".py",
   "mimetype": "text/x-python",
   "name": "python",
   "nbconvert_exporter": "python",
   "pygments_lexer": "ipython3",
   "version": "3.10.2"
  },
  "orig_nbformat": 4
 },
 "nbformat": 4,
 "nbformat_minor": 2
}
