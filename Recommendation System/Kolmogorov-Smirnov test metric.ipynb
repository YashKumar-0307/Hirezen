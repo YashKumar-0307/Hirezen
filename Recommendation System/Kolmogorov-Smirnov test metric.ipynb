{
 "cells": [
  {
   "cell_type": "code",
   "execution_count": 1,
   "metadata": {},
   "outputs": [],
   "source": [
    "import numpy as np\n",
    "from scipy.stats import ks_2samp,skewnorm\n",
    "import matplotlib.pyplot as plt\n",
    "import pickle"
   ]
  },
  {
   "cell_type": "code",
   "execution_count": 2,
   "metadata": {},
   "outputs": [],
   "source": [
    "a=[4,4,4,4,4]\n",
    "b=[4,3,4,4,4]\n",
    "c=[4,4,3,0,1]\n",
    "d=[4,4,3,0,0,0,1]"
   ]
  },
  {
   "cell_type": "code",
   "execution_count": 3,
   "metadata": {},
   "outputs": [
    {
     "name": "stdout",
     "output_type": "stream",
     "text": [
      "0.0 1.0\n"
     ]
    },
    {
     "data": {
      "text/plain": [
       "(array([1.000e+00, 0.000e+00, 0.000e+00, 0.000e+00, 1.000e+00, 1.000e+00,\n",
       "        2.000e+00, 0.000e+00, 0.000e+00, 0.000e+00, 0.000e+00, 2.000e+00,\n",
       "        0.000e+00, 2.000e+00, 2.000e+00, 1.000e+00, 1.000e+00, 3.000e+00,\n",
       "        2.000e+00, 3.000e+00, 6.000e+00, 2.000e+00, 1.000e+01, 1.300e+01,\n",
       "        1.500e+01, 9.000e+00, 1.200e+01, 1.700e+01, 2.500e+01, 2.800e+01,\n",
       "        2.400e+01, 3.100e+01, 4.600e+01, 4.100e+01, 5.800e+01, 6.300e+01,\n",
       "        9.200e+01, 9.400e+01, 1.030e+02, 1.120e+02, 1.320e+02, 1.470e+02,\n",
       "        2.090e+02, 2.130e+02, 2.350e+02, 2.350e+02, 2.660e+02, 3.410e+02,\n",
       "        3.450e+02, 4.040e+02, 4.410e+02, 4.810e+02, 5.450e+02, 6.110e+02,\n",
       "        6.350e+02, 7.020e+02, 7.810e+02, 8.810e+02, 9.190e+02, 1.024e+03,\n",
       "        1.043e+03, 1.140e+03, 1.236e+03, 1.270e+03, 1.376e+03, 1.420e+03,\n",
       "        1.553e+03, 1.601e+03, 1.649e+03, 1.768e+03, 1.716e+03, 1.804e+03,\n",
       "        1.803e+03, 1.832e+03, 1.841e+03, 1.832e+03, 1.847e+03, 1.694e+03,\n",
       "        1.625e+03, 1.548e+03, 1.409e+03, 1.246e+03, 1.091e+03, 9.880e+02,\n",
       "        7.770e+02, 6.190e+02, 5.130e+02, 4.090e+02, 2.900e+02, 2.390e+02,\n",
       "        1.710e+02, 8.200e+01, 7.000e+01, 4.200e+01, 3.800e+01, 2.000e+01,\n",
       "        1.200e+01, 1.100e+01, 2.000e+00, 4.000e+00]),\n",
       " array([1.   , 1.045, 1.09 , 1.135, 1.18 , 1.225, 1.27 , 1.315, 1.36 ,\n",
       "        1.405, 1.45 , 1.495, 1.54 , 1.585, 1.63 , 1.675, 1.72 , 1.765,\n",
       "        1.81 , 1.855, 1.9  , 1.945, 1.99 , 2.035, 2.08 , 2.125, 2.17 ,\n",
       "        2.215, 2.26 , 2.305, 2.35 , 2.395, 2.44 , 2.485, 2.53 , 2.575,\n",
       "        2.62 , 2.665, 2.71 , 2.755, 2.8  , 2.845, 2.89 , 2.935, 2.98 ,\n",
       "        3.025, 3.07 , 3.115, 3.16 , 3.205, 3.25 , 3.295, 3.34 , 3.385,\n",
       "        3.43 , 3.475, 3.52 , 3.565, 3.61 , 3.655, 3.7  , 3.745, 3.79 ,\n",
       "        3.835, 3.88 , 3.925, 3.97 , 4.015, 4.06 , 4.105, 4.15 , 4.195,\n",
       "        4.24 , 4.285, 4.33 , 4.375, 4.42 , 4.465, 4.51 , 4.555, 4.6  ,\n",
       "        4.645, 4.69 , 4.735, 4.78 , 4.825, 4.87 , 4.915, 4.96 , 5.005,\n",
       "        5.05 , 5.095, 5.14 , 5.185, 5.23 , 5.275, 5.32 , 5.365, 5.41 ,\n",
       "        5.455, 5.5  ]),\n",
       " <BarContainer object of 100 artists>)"
      ]
     },
     "execution_count": 3,
     "metadata": {},
     "output_type": "execute_result"
    },
    {
     "data": {
      "image/png": "[encoded data removed]",
      "text/plain": [
       "<Figure size 432x288 with 1 Axes>"
      ]
     },
     "metadata": {
      "needs_background": "light"
     },
     "output_type": "display_data"
    }
   ],
   "source": [
    "np.random.seed(42)\n",
    "distr=skewnorm.rvs(a=-3,size=50000)\n",
    "distr=(distr-distr.min())/(distr.max()-distr.min())\n",
    "print(distr.min(),distr.max())\n",
    "# dataset=np.sqrt(distr)\n",
    "dataset=distr*4.5\n",
    "plt.hist(dataset+1,bins=100)"
   ]
  },
  {
   "cell_type": "code",
   "execution_count": 4,
   "metadata": {},
   "outputs": [
    {
     "data": {
      "text/plain": [
       "(array([0, 1, 2, 3, 4]),\n",
       " array([   31,  1591, 17252, 30407,   719], dtype=int64))"
      ]
     },
     "execution_count": 4,
     "metadata": {},
     "output_type": "execute_result"
    }
   ],
   "source": [
    "np.unique(dataset.astype('int'),return_counts=True)"
   ]
  },
  {
   "cell_type": "code",
   "execution_count": 5,
   "metadata": {},
   "outputs": [
    {
     "name": "stdout",
     "output_type": "stream",
     "text": [
      "KstestResult(statistic=0.98562, pvalue=1.2297715052774115e-09)\n",
      "KstestResult(statistic=0.78562, pvalue=0.0009059670305324128)\n",
      "KstestResult(statistic=0.39938, pvalue=0.31043234354842375)\n",
      "KstestResult(statistic=0.5708085714285714, pvalue=0.011017842615598426)\n"
     ]
    }
   ],
   "source": [
    "print(ks_2samp(dataset,a))\n",
    "print(ks_2samp(dataset,b))\n",
    "print(ks_2samp(dataset,c))\n",
    "print(ks_2samp(dataset,d))"
   ]
  },
  {
   "cell_type": "code",
   "execution_count": 6,
   "metadata": {},
   "outputs": [],
   "source": [
    "def score(a):\n",
    "    return 1e5/ks_2samp(dataset,a).statistic"
   ]
  },
  {
   "cell_type": "code",
   "execution_count": 7,
   "metadata": {},
   "outputs": [
    {
     "name": "stdout",
     "output_type": "stream",
     "text": [
      "101458.98013433168 127288.00183294722 250388.101557414 175190.08123814338\n"
     ]
    }
   ],
   "source": [
    "score_a = score(a)\n",
    "score_b=score(b)\n",
    "score_c=score(c)\n",
    "score_d=score(d)\n",
    "print(score_a,score_b,score_c,score_d)"
   ]
  },
  {
   "cell_type": "code",
   "execution_count": 8,
   "metadata": {},
   "outputs": [],
   "source": [
    "with open(b'metric_dist.pkl','wb') as f:\n",
    "    pickle.dump(dataset,f)"
   ]
  },
  {
   "cell_type": "code",
   "execution_count": 9,
   "metadata": {},
   "outputs": [],
   "source": [
    "with open(b'metric_dist.pkl','rb') as f:\n",
    "    new_dataset=pickle.load(f)"
   ]
  },
  {
   "cell_type": "code",
   "execution_count": 10,
   "metadata": {},
   "outputs": [
    {
     "data": {
      "text/plain": [
       "KstestResult(statistic=0.0, pvalue=1.0)"
      ]
     },
     "execution_count": 10,
     "metadata": {},
     "output_type": "execute_result"
    }
   ],
   "source": [
    "ks_2samp(dataset,new_dataset)"
   ]
  }
 ],
 "metadata": {
  "interpreter": {
   "hash": "369f2c481f4da34e4445cda3fffd2e751bd1c4d706f27375911949ba6bb62e1c"
  },
  "kernelspec": {
   "display_name": "Python 3.10.2 64-bit",
   "language": "python",
   "name": "python3"
  },
  "language_info": {
   "codemirror_mode": {
    "name": "ipython",
    "version": 3
   },
   "file_extension": ".py",
   "mimetype": "text/x-python",
   "name": "python",
   "nbconvert_exporter": "python",
   "pygments_lexer": "ipython3",
   "version": "3.10.2"
  },
  "orig_nbformat": 4
 },
 "nbformat": 4,
 "nbformat_minor": 2
}
